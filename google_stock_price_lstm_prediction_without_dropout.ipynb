{
 "cells": [
  {
   "cell_type": "code",
   "execution_count": 1,
   "id": "8d5592b0",
   "metadata": {},
   "outputs": [],
   "source": [
    "import pandas as pd\n",
    "import numpy as np"
   ]
  },
  {
   "cell_type": "code",
   "execution_count": 2,
   "id": "5a66f521",
   "metadata": {},
   "outputs": [],
   "source": [
    "train = pd.read_csv('Google_Stock_Price_Train.csv')"
   ]
  },
  {
   "cell_type": "code",
   "execution_count": 3,
   "id": "776aba04",
   "metadata": {},
   "outputs": [
    {
     "data": {
      "text/html": [
       "<div>\n",
       "<style scoped>\n",
       "    .dataframe tbody tr th:only-of-type {\n",
       "        vertical-align: middle;\n",
       "    }\n",
       "\n",
       "    .dataframe tbody tr th {\n",
       "        vertical-align: top;\n",
       "    }\n",
       "\n",
       "    .dataframe thead th {\n",
       "        text-align: right;\n",
       "    }\n",
       "</style>\n",
       "<table border=\"1\" class=\"dataframe\">\n",
       "  <thead>\n",
       "    <tr style=\"text-align: right;\">\n",
       "      <th></th>\n",
       "      <th>Date</th>\n",
       "      <th>Open</th>\n",
       "      <th>High</th>\n",
       "      <th>Low</th>\n",
       "      <th>Close</th>\n",
       "      <th>Volume</th>\n",
       "    </tr>\n",
       "  </thead>\n",
       "  <tbody>\n",
       "    <tr>\n",
       "      <th>0</th>\n",
       "      <td>1/3/2012</td>\n",
       "      <td>325.25</td>\n",
       "      <td>332.83</td>\n",
       "      <td>324.97</td>\n",
       "      <td>663.59</td>\n",
       "      <td>7,380,500</td>\n",
       "    </tr>\n",
       "    <tr>\n",
       "      <th>1</th>\n",
       "      <td>1/4/2012</td>\n",
       "      <td>331.27</td>\n",
       "      <td>333.87</td>\n",
       "      <td>329.08</td>\n",
       "      <td>666.45</td>\n",
       "      <td>5,749,400</td>\n",
       "    </tr>\n",
       "    <tr>\n",
       "      <th>2</th>\n",
       "      <td>1/5/2012</td>\n",
       "      <td>329.83</td>\n",
       "      <td>330.75</td>\n",
       "      <td>326.89</td>\n",
       "      <td>657.21</td>\n",
       "      <td>6,590,300</td>\n",
       "    </tr>\n",
       "    <tr>\n",
       "      <th>3</th>\n",
       "      <td>1/6/2012</td>\n",
       "      <td>328.34</td>\n",
       "      <td>328.77</td>\n",
       "      <td>323.68</td>\n",
       "      <td>648.24</td>\n",
       "      <td>5,405,900</td>\n",
       "    </tr>\n",
       "    <tr>\n",
       "      <th>4</th>\n",
       "      <td>1/9/2012</td>\n",
       "      <td>322.04</td>\n",
       "      <td>322.29</td>\n",
       "      <td>309.46</td>\n",
       "      <td>620.76</td>\n",
       "      <td>11,688,800</td>\n",
       "    </tr>\n",
       "  </tbody>\n",
       "</table>\n",
       "</div>"
      ],
      "text/plain": [
       "       Date    Open    High     Low   Close      Volume\n",
       "0  1/3/2012  325.25  332.83  324.97  663.59   7,380,500\n",
       "1  1/4/2012  331.27  333.87  329.08  666.45   5,749,400\n",
       "2  1/5/2012  329.83  330.75  326.89  657.21   6,590,300\n",
       "3  1/6/2012  328.34  328.77  323.68  648.24   5,405,900\n",
       "4  1/9/2012  322.04  322.29  309.46  620.76  11,688,800"
      ]
     },
     "execution_count": 3,
     "metadata": {},
     "output_type": "execute_result"
    }
   ],
   "source": [
    "train.head()"
   ]
  },
  {
   "cell_type": "code",
   "execution_count": 4,
   "id": "5f9a2b38",
   "metadata": {},
   "outputs": [],
   "source": [
    "train_set = train[['Open']]"
   ]
  },
  {
   "cell_type": "code",
   "execution_count": 5,
   "id": "c406129b",
   "metadata": {},
   "outputs": [
    {
     "data": {
      "text/plain": [
       "<AxesSubplot:>"
      ]
     },
     "execution_count": 5,
     "metadata": {},
     "output_type": "execute_result"
    },
    {
     "data": {
      "image/png": "[encoded data removed]",
      "text/plain": [
       "<Figure size 432x288 with 1 Axes>"
      ]
     },
     "metadata": {
      "needs_background": "light"
     },
     "output_type": "display_data"
    }
   ],
   "source": [
    "train_set.plot()"
   ]
  },
  {
   "cell_type": "code",
   "execution_count": 6,
   "id": "d048c8ba",
   "metadata": {},
   "outputs": [
    {
     "data": {
      "text/plain": [
       "(1258, 1)"
      ]
     },
     "execution_count": 6,
     "metadata": {},
     "output_type": "execute_result"
    }
   ],
   "source": [
    "train_set.shape"
   ]
  },
  {
   "cell_type": "code",
   "execution_count": 7,
   "id": "0b88ee16",
   "metadata": {},
   "outputs": [],
   "source": [
    "from sklearn.preprocessing import MinMaxScaler"
   ]
  },
  {
   "cell_type": "code",
   "execution_count": 8,
   "id": "2f8a2437",
   "metadata": {},
   "outputs": [],
   "source": [
    "normalizer = MinMaxScaler(feature_range=(0,1))"
   ]
  },
  {
   "cell_type": "code",
   "execution_count": 9,
   "id": "36ea134b",
   "metadata": {},
   "outputs": [],
   "source": [
    "train_set_scale = normalizer.fit_transform(train_set)"
   ]
  },
  {
   "cell_type": "code",
   "execution_count": 10,
   "id": "ead6e5d1",
   "metadata": {},
   "outputs": [],
   "source": [
    "X_train = []\n",
    "Y_train = []\n",
    "for i in range(len(train_set_scale)-60):\n",
    "    X_train.append(train_set_scale[i:i+60,0])\n",
    "    Y_train.append(train_set_scale[i+60,0])"
   ]
  },
  {
   "cell_type": "code",
   "execution_count": 11,
   "id": "a22fdece",
   "metadata": {},
   "outputs": [],
   "source": [
    "X_train = np.array(X_train)"
   ]
  },
  {
   "cell_type": "code",
   "execution_count": 12,
   "id": "44419c82",
   "metadata": {},
   "outputs": [],
   "source": [
    "Y_train = np.array(Y_train)"
   ]
  },
  {
   "cell_type": "code",
   "execution_count": 13,
   "id": "845ccb3d",
   "metadata": {},
   "outputs": [],
   "source": [
    "X_train = np.reshape(X_train, newshape= (X_train.shape[0], X_train.shape[1],1))"
   ]
  },
  {
   "cell_type": "code",
   "execution_count": 14,
   "id": "22b57918",
   "metadata": {},
   "outputs": [
    {
     "data": {
      "text/plain": [
       "(1198, 60, 1)"
      ]
     },
     "execution_count": 14,
     "metadata": {},
     "output_type": "execute_result"
    }
   ],
   "source": [
    "X_train.shape"
   ]
  },
  {
   "cell_type": "code",
   "execution_count": 15,
   "id": "6729039c",
   "metadata": {},
   "outputs": [
    {
     "data": {
      "text/plain": [
       "(1198,)"
      ]
     },
     "execution_count": 15,
     "metadata": {},
     "output_type": "execute_result"
    }
   ],
   "source": [
    "Y_train.shape"
   ]
  },
  {
   "cell_type": "code",
   "execution_count": 16,
   "id": "730de124",
   "metadata": {},
   "outputs": [
    {
     "name": "stderr",
     "output_type": "stream",
     "text": [
      "Using TensorFlow backend.\n"
     ]
    }
   ],
   "source": [
    "from keras.models import Sequential\n",
    "from keras.layers import Dense\n",
    "from keras.layers import LSTM"
   ]
  },
  {
   "cell_type": "code",
   "execution_count": 17,
   "id": "8c6d2cce",
   "metadata": {},
   "outputs": [],
   "source": [
    "model = Sequential()"
   ]
  },
  {
   "cell_type": "code",
   "execution_count": 18,
   "id": "922e0325",
   "metadata": {},
   "outputs": [],
   "source": [
    "model.add(LSTM(units=50, return_sequences= True, input_shape= (X_train.shape[1],1)))"
   ]
  },
  {
   "cell_type": "code",
   "execution_count": 19,
   "id": "772cc519",
   "metadata": {},
   "outputs": [],
   "source": [
    "from keras.layers import Dropout"
   ]
  },
  {
   "cell_type": "code",
   "execution_count": 20,
   "id": "8041e1ac",
   "metadata": {},
   "outputs": [],
   "source": [
    "#model.add(Dropout(rate=0.2))"
   ]
  },
  {
   "cell_type": "code",
   "execution_count": 21,
   "id": "3976aca4",
   "metadata": {},
   "outputs": [],
   "source": [
    "model.add(LSTM(units=50, return_sequences= True))"
   ]
  },
  {
   "cell_type": "code",
   "execution_count": 22,
   "id": "bbfeb532",
   "metadata": {},
   "outputs": [],
   "source": [
    "#model.add(Dropout(rate=0.2))"
   ]
  },
  {
   "cell_type": "code",
   "execution_count": 23,
   "id": "0cd63d81",
   "metadata": {},
   "outputs": [],
   "source": [
    "model.add(LSTM(units=50))\n",
    "#model.add(Dropout(rate=0.2))"
   ]
  },
  {
   "cell_type": "code",
   "execution_count": 24,
   "id": "a8bdd321",
   "metadata": {},
   "outputs": [
    {
     "name": "stdout",
     "output_type": "stream",
     "text": [
      "Model: \"sequential_1\"\n",
      "_________________________________________________________________\n",
      "Layer (type)                 Output Shape              Param #   \n",
      "=================================================================\n",
      "lstm_1 (LSTM)                (None, 60, 50)            10400     \n",
      "_________________________________________________________________\n",
      "lstm_2 (LSTM)                (None, 60, 50)            20200     \n",
      "_________________________________________________________________\n",
      "lstm_3 (LSTM)                (None, 50)                20200     \n",
      "=================================================================\n",
      "Total params: 50,800\n",
      "Trainable params: 50,800\n",
      "Non-trainable params: 0\n",
      "_________________________________________________________________\n"
     ]
    }
   ],
   "source": [
    "model.summary()"
   ]
  },
  {
   "cell_type": "code",
   "execution_count": 25,
   "id": "39496b6d",
   "metadata": {},
   "outputs": [],
   "source": [
    "model.add(Dense(units=1,activation='linear'))"
   ]
  },
  {
   "cell_type": "code",
   "execution_count": 26,
   "id": "994230f9",
   "metadata": {},
   "outputs": [
    {
     "name": "stdout",
     "output_type": "stream",
     "text": [
      "Model: \"sequential_1\"\n",
      "_________________________________________________________________\n",
      "Layer (type)                 Output Shape              Param #   \n",
      "=================================================================\n",
      "lstm_1 (LSTM)                (None, 60, 50)            10400     \n",
      "_________________________________________________________________\n",
      "lstm_2 (LSTM)                (None, 60, 50)            20200     \n",
      "_________________________________________________________________\n",
      "lstm_3 (LSTM)                (None, 50)                20200     \n",
      "_________________________________________________________________\n",
      "dense_1 (Dense)              (None, 1)                 51        \n",
      "=================================================================\n",
      "Total params: 50,851\n",
      "Trainable params: 50,851\n",
      "Non-trainable params: 0\n",
      "_________________________________________________________________\n"
     ]
    }
   ],
   "source": [
    "model.summary()"
   ]
  },
  {
   "cell_type": "code",
   "execution_count": 27,
   "id": "c6211fdd",
   "metadata": {},
   "outputs": [],
   "source": [
    "model.compile(loss='mean_squared_error',optimizer='adam',metrics=['accuracy'])"
   ]
  },
  {
   "cell_type": "code",
   "execution_count": 28,
   "id": "68715582",
   "metadata": {},
   "outputs": [
    {
     "name": "stdout",
     "output_type": "stream",
     "text": [
      "Epoch 1/100\n",
      "1198/1198 [==============================] - 16s 13ms/step - loss: 0.0335 - accuracy: 0.0017\n",
      "Epoch 2/100\n",
      "1198/1198 [==============================] - 13s 11ms/step - loss: 0.0024 - accuracy: 0.0017\n",
      "Epoch 3/100\n",
      "1198/1198 [==============================] - 13s 11ms/step - loss: 0.0017 - accuracy: 0.0017\n",
      "Epoch 4/100\n",
      "1198/1198 [==============================] - 13s 11ms/step - loss: 0.0016 - accuracy: 0.0017\n",
      "Epoch 5/100\n",
      "1198/1198 [==============================] - 13s 11ms/step - loss: 0.0016 - accuracy: 0.0017\n",
      "Epoch 6/100\n",
      "1198/1198 [==============================] - 13s 11ms/step - loss: 0.0015 - accuracy: 0.0017\n",
      "Epoch 7/100\n",
      "1198/1198 [==============================] - 13s 11ms/step - loss: 0.0015 - accuracy: 0.0017\n",
      "Epoch 8/100\n",
      "1198/1198 [==============================] - 13s 11ms/step - loss: 0.0014 - accuracy: 0.0017\n",
      "Epoch 9/100\n",
      "1198/1198 [==============================] - 13s 11ms/step - loss: 0.0014 - accuracy: 0.0017\n",
      "Epoch 10/100\n",
      "1198/1198 [==============================] - 13s 11ms/step - loss: 0.0014 - accuracy: 0.0017\n",
      "Epoch 11/100\n",
      "1198/1198 [==============================] - 13s 11ms/step - loss: 0.0013 - accuracy: 0.0017\n",
      "Epoch 12/100\n",
      "1198/1198 [==============================] - 13s 11ms/step - loss: 0.0013 - accuracy: 0.0017\n",
      "Epoch 13/100\n",
      "1198/1198 [==============================] - 13s 11ms/step - loss: 0.0013 - accuracy: 0.0017\n",
      "Epoch 14/100\n",
      "1198/1198 [==============================] - 13s 11ms/step - loss: 0.0013 - accuracy: 0.0017\n",
      "Epoch 15/100\n",
      "1198/1198 [==============================] - 13s 11ms/step - loss: 0.0011 - accuracy: 0.0017\n",
      "Epoch 16/100\n",
      "1198/1198 [==============================] - 13s 11ms/step - loss: 0.0012 - accuracy: 0.0017\n",
      "Epoch 17/100\n",
      "1198/1198 [==============================] - 13s 11ms/step - loss: 0.0011 - accuracy: 0.0017\n",
      "Epoch 18/100\n",
      "1198/1198 [==============================] - 13s 11ms/step - loss: 0.0011 - accuracy: 0.0017\n",
      "Epoch 19/100\n",
      "1198/1198 [==============================] - 13s 11ms/step - loss: 0.0010 - accuracy: 0.0017\n",
      "Epoch 20/100\n",
      "1198/1198 [==============================] - 13s 11ms/step - loss: 0.0011 - accuracy: 0.0017\n",
      "Epoch 21/100\n",
      "1198/1198 [==============================] - 13s 11ms/step - loss: 0.0010 - accuracy: 0.0017\n",
      "Epoch 22/100\n",
      "1198/1198 [==============================] - 13s 11ms/step - loss: 0.0012 - accuracy: 0.0017\n",
      "Epoch 23/100\n",
      "1198/1198 [==============================] - 13s 11ms/step - loss: 0.0011 - accuracy: 0.0017\n",
      "Epoch 24/100\n",
      "1198/1198 [==============================] - 13s 11ms/step - loss: 9.4790e-04 - accuracy: 0.0017\n",
      "Epoch 25/100\n",
      "1198/1198 [==============================] - 13s 11ms/step - loss: 9.4524e-04 - accuracy: 0.0017\n",
      "Epoch 26/100\n",
      "1198/1198 [==============================] - 14s 11ms/step - loss: 8.9486e-04 - accuracy: 0.0017\n",
      "Epoch 27/100\n",
      "1198/1198 [==============================] - 14s 11ms/step - loss: 9.1262e-04 - accuracy: 0.0017\n",
      "Epoch 28/100\n",
      "1198/1198 [==============================] - 13s 11ms/step - loss: 0.0010 - accuracy: 0.0017\n",
      "Epoch 29/100\n",
      "1198/1198 [==============================] - 13s 11ms/step - loss: 9.9109e-04 - accuracy: 0.0017\n",
      "Epoch 30/100\n",
      "1198/1198 [==============================] - 14s 11ms/step - loss: 9.1021e-04 - accuracy: 0.0017\n",
      "Epoch 31/100\n",
      "1198/1198 [==============================] - 13s 11ms/step - loss: 9.6993e-04 - accuracy: 0.0017\n",
      "Epoch 32/100\n",
      "1198/1198 [==============================] - 13s 11ms/step - loss: 9.0299e-04 - accuracy: 0.0017\n",
      "Epoch 33/100\n",
      "1198/1198 [==============================] - 13s 11ms/step - loss: 9.4540e-04 - accuracy: 0.0017\n",
      "Epoch 34/100\n",
      "1198/1198 [==============================] - 13s 11ms/step - loss: 9.9286e-04 - accuracy: 0.0017\n",
      "Epoch 35/100\n",
      "1198/1198 [==============================] - 13s 11ms/step - loss: 9.0457e-04 - accuracy: 0.0017\n",
      "Epoch 36/100\n",
      "1198/1198 [==============================] - 13s 11ms/step - loss: 7.6877e-04 - accuracy: 0.0017\n",
      "Epoch 37/100\n",
      "1198/1198 [==============================] - 13s 11ms/step - loss: 7.6042e-04 - accuracy: 0.0017\n",
      "Epoch 38/100\n",
      "1198/1198 [==============================] - 13s 11ms/step - loss: 7.2356e-04 - accuracy: 0.0017\n",
      "Epoch 39/100\n",
      "1198/1198 [==============================] - 13s 11ms/step - loss: 6.9454e-04 - accuracy: 0.0017\n",
      "Epoch 40/100\n",
      "1198/1198 [==============================] - 13s 11ms/step - loss: 6.4953e-04 - accuracy: 0.0017\n",
      "Epoch 41/100\n",
      "1198/1198 [==============================] - 13s 11ms/step - loss: 7.1001e-04 - accuracy: 0.0017\n",
      "Epoch 42/100\n",
      "1198/1198 [==============================] - 13s 11ms/step - loss: 7.1358e-04 - accuracy: 0.0017\n",
      "Epoch 43/100\n",
      "1198/1198 [==============================] - 13s 11ms/step - loss: 6.6539e-04 - accuracy: 0.0017\n",
      "Epoch 44/100\n",
      "1198/1198 [==============================] - 13s 11ms/step - loss: 6.6293e-04 - accuracy: 0.0017\n",
      "Epoch 45/100\n",
      "1198/1198 [==============================] - 13s 11ms/step - loss: 6.7371e-04 - accuracy: 0.0017\n",
      "Epoch 46/100\n",
      "1198/1198 [==============================] - 13s 11ms/step - loss: 6.7071e-04 - accuracy: 0.0017\n",
      "Epoch 47/100\n",
      "1198/1198 [==============================] - 13s 11ms/step - loss: 6.1037e-04 - accuracy: 0.0017\n",
      "Epoch 48/100\n",
      "1198/1198 [==============================] - 13s 11ms/step - loss: 5.5342e-04 - accuracy: 0.0017\n",
      "Epoch 49/100\n",
      "1198/1198 [==============================] - 13s 11ms/step - loss: 5.1854e-04 - accuracy: 0.0017\n",
      "Epoch 50/100\n",
      "1198/1198 [==============================] - 13s 11ms/step - loss: 5.3530e-04 - accuracy: 0.0017\n",
      "Epoch 51/100\n",
      "1198/1198 [==============================] - 13s 11ms/step - loss: 5.3607e-04 - accuracy: 0.0017\n",
      "Epoch 52/100\n",
      "1198/1198 [==============================] - 13s 11ms/step - loss: 5.1644e-04 - accuracy: 0.0017\n",
      "Epoch 53/100\n",
      "1198/1198 [==============================] - 13s 11ms/step - loss: 5.0230e-04 - accuracy: 0.0017\n",
      "Epoch 54/100\n",
      "1198/1198 [==============================] - 13s 11ms/step - loss: 5.2510e-04 - accuracy: 0.0017\n",
      "Epoch 55/100\n",
      "1198/1198 [==============================] - 13s 11ms/step - loss: 5.3991e-04 - accuracy: 0.0017\n",
      "Epoch 56/100\n",
      "1198/1198 [==============================] - 13s 11ms/step - loss: 6.0724e-04 - accuracy: 0.0017\n",
      "Epoch 57/100\n",
      "1198/1198 [==============================] - 13s 11ms/step - loss: 4.4440e-04 - accuracy: 0.0017\n",
      "Epoch 58/100\n",
      "1198/1198 [==============================] - 13s 11ms/step - loss: 4.8355e-04 - accuracy: 0.0017\n",
      "Epoch 59/100\n",
      "1198/1198 [==============================] - 14s 12ms/step - loss: 4.7575e-04 - accuracy: 0.0017\n",
      "Epoch 60/100\n",
      "1198/1198 [==============================] - 13s 11ms/step - loss: 4.4368e-04 - accuracy: 0.0017\n",
      "Epoch 61/100\n",
      "1198/1198 [==============================] - 13s 11ms/step - loss: 4.5186e-04 - accuracy: 0.0017\n",
      "Epoch 62/100\n",
      "1198/1198 [==============================] - 13s 11ms/step - loss: 4.7622e-04 - accuracy: 0.0017\n",
      "Epoch 63/100\n",
      "1198/1198 [==============================] - 13s 11ms/step - loss: 5.5515e-04 - accuracy: 0.0017\n",
      "Epoch 64/100\n",
      "1198/1198 [==============================] - 13s 11ms/step - loss: 4.8079e-04 - accuracy: 0.0017\n",
      "Epoch 65/100\n",
      "1198/1198 [==============================] - 13s 11ms/step - loss: 4.0664e-04 - accuracy: 0.0017\n",
      "Epoch 66/100\n",
      "1198/1198 [==============================] - 13s 11ms/step - loss: 3.9855e-04 - accuracy: 0.0017\n",
      "Epoch 67/100\n",
      "1198/1198 [==============================] - 13s 11ms/step - loss: 4.2947e-04 - accuracy: 0.0017\n",
      "Epoch 68/100\n",
      "1198/1198 [==============================] - 13s 11ms/step - loss: 3.7940e-04 - accuracy: 0.0017\n",
      "Epoch 69/100\n",
      "1198/1198 [==============================] - 13s 11ms/step - loss: 3.9373e-04 - accuracy: 0.0017\n",
      "Epoch 70/100\n",
      "1198/1198 [==============================] - 13s 11ms/step - loss: 3.8714e-04 - accuracy: 0.0017\n",
      "Epoch 71/100\n",
      "1198/1198 [==============================] - 13s 11ms/step - loss: 4.3200e-04 - accuracy: 0.0017\n",
      "Epoch 72/100\n",
      "1198/1198 [==============================] - 13s 11ms/step - loss: 3.6930e-04 - accuracy: 0.0017\n",
      "Epoch 73/100\n",
      "1198/1198 [==============================] - 13s 11ms/step - loss: 3.5513e-04 - accuracy: 0.0017\n",
      "Epoch 74/100\n",
      "1198/1198 [==============================] - 13s 11ms/step - loss: 3.3091e-04 - accuracy: 0.0017\n",
      "Epoch 75/100\n",
      "1198/1198 [==============================] - 13s 11ms/step - loss: 3.6786e-04 - accuracy: 0.0017\n",
      "Epoch 76/100\n"
     ]
    },
    {
     "name": "stdout",
     "output_type": "stream",
     "text": [
      "1198/1198 [==============================] - 13s 11ms/step - loss: 3.0947e-04 - accuracy: 0.0017\n",
      "Epoch 77/100\n",
      "1198/1198 [==============================] - 13s 11ms/step - loss: 3.3351e-04 - accuracy: 0.0017\n",
      "Epoch 78/100\n",
      "1198/1198 [==============================] - 13s 11ms/step - loss: 3.4782e-04 - accuracy: 0.0017\n",
      "Epoch 79/100\n",
      "1198/1198 [==============================] - 13s 11ms/step - loss: 3.0933e-04 - accuracy: 0.0017\n",
      "Epoch 80/100\n",
      "1198/1198 [==============================] - 13s 11ms/step - loss: 3.1933e-04 - accuracy: 0.0017\n",
      "Epoch 81/100\n",
      "1198/1198 [==============================] - 13s 11ms/step - loss: 4.0969e-04 - accuracy: 0.0017\n",
      "Epoch 82/100\n",
      "1198/1198 [==============================] - 13s 11ms/step - loss: 3.1522e-04 - accuracy: 0.0017\n",
      "Epoch 83/100\n",
      "1198/1198 [==============================] - 13s 11ms/step - loss: 2.9678e-04 - accuracy: 0.0017\n",
      "Epoch 84/100\n",
      "1198/1198 [==============================] - 13s 11ms/step - loss: 3.9363e-04 - accuracy: 0.0017\n",
      "Epoch 85/100\n",
      "1198/1198 [==============================] - 13s 11ms/step - loss: 3.4278e-04 - accuracy: 0.0017\n",
      "Epoch 86/100\n",
      "1198/1198 [==============================] - 13s 11ms/step - loss: 3.4319e-04 - accuracy: 0.0017\n",
      "Epoch 87/100\n",
      "1198/1198 [==============================] - 13s 11ms/step - loss: 3.0128e-04 - accuracy: 0.0017\n",
      "Epoch 88/100\n",
      "1198/1198 [==============================] - 13s 11ms/step - loss: 3.0731e-04 - accuracy: 0.0017\n",
      "Epoch 89/100\n",
      "1198/1198 [==============================] - 13s 11ms/step - loss: 4.2789e-04 - accuracy: 0.0017\n",
      "Epoch 90/100\n",
      "1198/1198 [==============================] - 13s 11ms/step - loss: 3.4423e-04 - accuracy: 0.0017\n",
      "Epoch 91/100\n",
      "1198/1198 [==============================] - 13s 11ms/step - loss: 3.3582e-04 - accuracy: 0.0017\n",
      "Epoch 92/100\n",
      "1198/1198 [==============================] - 13s 11ms/step - loss: 3.2275e-04 - accuracy: 0.0017\n",
      "Epoch 93/100\n",
      "1198/1198 [==============================] - 13s 11ms/step - loss: 3.0943e-04 - accuracy: 0.0017\n",
      "Epoch 94/100\n",
      "1198/1198 [==============================] - 13s 11ms/step - loss: 3.2484e-04 - accuracy: 0.0017\n",
      "Epoch 95/100\n",
      "1198/1198 [==============================] - 13s 11ms/step - loss: 3.8497e-04 - accuracy: 0.0017\n",
      "Epoch 96/100\n",
      "1198/1198 [==============================] - 13s 11ms/step - loss: 3.1448e-04 - accuracy: 0.0017\n",
      "Epoch 97/100\n",
      "1198/1198 [==============================] - 13s 11ms/step - loss: 5.3288e-04 - accuracy: 0.0017\n",
      "Epoch 98/100\n",
      "1198/1198 [==============================] - 13s 11ms/step - loss: 3.0462e-04 - accuracy: 0.0017\n",
      "Epoch 99/100\n",
      "1198/1198 [==============================] - 13s 11ms/step - loss: 2.9566e-04 - accuracy: 0.0017\n",
      "Epoch 100/100\n",
      "1198/1198 [==============================] - 13s 11ms/step - loss: 3.6668e-04 - accuracy: 0.0017\n"
     ]
    },
    {
     "data": {
      "text/plain": [
       "<keras.callbacks.callbacks.History at 0x7fe5f1c50c10>"
      ]
     },
     "execution_count": 28,
     "metadata": {},
     "output_type": "execute_result"
    }
   ],
   "source": [
    "model.fit(X_train,Y_train,epochs=100)"
   ]
  },
  {
   "cell_type": "code",
   "execution_count": 29,
   "id": "3b71002e",
   "metadata": {},
   "outputs": [],
   "source": [
    "loss = model.history.history['loss']"
   ]
  },
  {
   "cell_type": "code",
   "execution_count": 30,
   "id": "530be4b7",
   "metadata": {},
   "outputs": [],
   "source": [
    "import matplotlib.pyplot as plt"
   ]
  },
  {
   "cell_type": "code",
   "execution_count": 31,
   "id": "69924624",
   "metadata": {},
   "outputs": [
    {
     "data": {
      "text/plain": [
       "[<matplotlib.lines.Line2D at 0x7fe5d0924f10>]"
      ]
     },
     "execution_count": 31,
     "metadata": {},
     "output_type": "execute_result"
    },
    {
     "data": {
      "image/png": "[encoded data removed]",
      "text/plain": [
       "<Figure size 432x288 with 1 Axes>"
      ]
     },
     "metadata": {
      "needs_background": "light"
     },
     "output_type": "display_data"
    }
   ],
   "source": [
    "plt.plot(loss)"
   ]
  },
  {
   "cell_type": "code",
   "execution_count": 32,
   "id": "37bbf5e9",
   "metadata": {},
   "outputs": [],
   "source": [
    "test = pd.read_csv('Google_Stock_Price_Test.csv')"
   ]
  },
  {
   "cell_type": "code",
   "execution_count": 33,
   "id": "86aab4f4",
   "metadata": {},
   "outputs": [],
   "source": [
    "test_set = test[['Open']].values"
   ]
  },
  {
   "cell_type": "code",
   "execution_count": 34,
   "id": "7d448d0f",
   "metadata": {},
   "outputs": [
    {
     "data": {
      "text/plain": [
       "array([[778.81],\n",
       "       [788.36],\n",
       "       [786.08],\n",
       "       [795.26],\n",
       "       [806.4 ],\n",
       "       [807.86],\n",
       "       [805.  ],\n",
       "       [807.14],\n",
       "       [807.48],\n",
       "       [807.08],\n",
       "       [805.81],\n",
       "       [805.12],\n",
       "       [806.91],\n",
       "       [807.25],\n",
       "       [822.3 ],\n",
       "       [829.62],\n",
       "       [837.81],\n",
       "       [834.71],\n",
       "       [814.66],\n",
       "       [796.86]])"
      ]
     },
     "execution_count": 34,
     "metadata": {},
     "output_type": "execute_result"
    }
   ],
   "source": [
    "test_set"
   ]
  },
  {
   "cell_type": "code",
   "execution_count": 35,
   "id": "8ba124ae",
   "metadata": {},
   "outputs": [],
   "source": [
    "ds_total = pd.concat((train['Open'],test['Open']),axis=0)"
   ]
  },
  {
   "cell_type": "code",
   "execution_count": 36,
   "id": "50c44ff3",
   "metadata": {},
   "outputs": [
    {
     "data": {
      "text/plain": [
       "0     325.25\n",
       "1     331.27\n",
       "2     329.83\n",
       "3     328.34\n",
       "4     322.04\n",
       "       ...  \n",
       "15    829.62\n",
       "16    837.81\n",
       "17    834.71\n",
       "18    814.66\n",
       "19    796.86\n",
       "Name: Open, Length: 1278, dtype: float64"
      ]
     },
     "execution_count": 36,
     "metadata": {},
     "output_type": "execute_result"
    }
   ],
   "source": [
    "ds_total"
   ]
  },
  {
   "cell_type": "code",
   "execution_count": 37,
   "id": "e818ba51",
   "metadata": {},
   "outputs": [],
   "source": [
    "inputs = ds_total[len(ds_total)-len(test)-60:].values"
   ]
  },
  {
   "cell_type": "code",
   "execution_count": 38,
   "id": "b274ff2b",
   "metadata": {},
   "outputs": [],
   "source": [
    "inputs = inputs.reshape(-1,1)"
   ]
  },
  {
   "cell_type": "code",
   "execution_count": 39,
   "id": "a8ada974",
   "metadata": {},
   "outputs": [],
   "source": [
    "inputs = normalizer.transform(inputs)"
   ]
  },
  {
   "cell_type": "code",
   "execution_count": 40,
   "id": "f377fe2c",
   "metadata": {},
   "outputs": [],
   "source": [
    "X_test = []"
   ]
  },
  {
   "cell_type": "code",
   "execution_count": 41,
   "id": "4cb96908",
   "metadata": {},
   "outputs": [],
   "source": [
    "for i in range(60, len(inputs)): \n",
    "    X_test.append(inputs[i-60: i, 0])"
   ]
  },
  {
   "cell_type": "code",
   "execution_count": 42,
   "id": "a30818fc",
   "metadata": {},
   "outputs": [],
   "source": [
    "X_test = np.array(X_test)\n",
    "X_test = np.reshape(X_test, newshape = (X_test.shape[0],X_test.shape[1], 1))"
   ]
  },
  {
   "cell_type": "code",
   "execution_count": 43,
   "id": "ade2bead",
   "metadata": {},
   "outputs": [],
   "source": [
    "predicted = model.predict(X_test)"
   ]
  },
  {
   "cell_type": "code",
   "execution_count": 44,
   "id": "ba26e3a8",
   "metadata": {},
   "outputs": [],
   "source": [
    "predicted = normalizer.inverse_transform(predicted)"
   ]
  },
  {
   "cell_type": "code",
   "execution_count": 45,
   "id": "fa6b229b",
   "metadata": {},
   "outputs": [
    {
     "data": {
      "image/png": "[encoded data removed]",
      "text/plain": [
       "<Figure size 432x288 with 1 Axes>"
      ]
     },
     "metadata": {
      "needs_background": "light"
     },
     "output_type": "display_data"
    }
   ],
   "source": [
    "plt.plot(test_set,color='red',label='Real Price')\n",
    "plt.plot(predicted,color='blue',label='Predicted price')\n",
    "plt.xlabel('Time')\n",
    "plt.ylabel('Price')\n",
    "plt.legend()\n",
    "plt.show()"
   ]
  }
 ],
 "metadata": {
  "kernelspec": {
   "display_name": "Python 3",
   "language": "python",
   "name": "python3"
  },
  "language_info": {
   "codemirror_mode": {
    "name": "ipython",
    "version": 3
   },
   "file_extension": ".py",
   "mimetype": "text/x-python",
   "name": "python",
   "nbconvert_exporter": "python",
   "pygments_lexer": "ipython3",
   "version": "3.7.10"
  }
 },
 "nbformat": 4,
 "nbformat_minor": 5
}
